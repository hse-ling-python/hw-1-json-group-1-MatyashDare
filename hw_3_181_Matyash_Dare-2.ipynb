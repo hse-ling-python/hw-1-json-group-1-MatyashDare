{
 "cells": [
  {
   "cell_type": "markdown",
   "metadata": {},
   "source": [
    "**ДЗ 1**\n",
    "\n",
    "**Матяш Дарья БКЛ-181**"
   ]
  },
  {
   "cell_type": "markdown",
   "metadata": {},
   "source": [
    "Для начала включим проверку PEP8:"
   ]
  },
  {
   "cell_type": "code",
   "execution_count": 1,
   "metadata": {},
   "outputs": [],
   "source": [
    "%load_ext pycodestyle_magic\n",
    "%pycodestyle_on"
   ]
  },
  {
   "cell_type": "markdown",
   "metadata": {},
   "source": [
    "Импорт модуля json, считывание файла, подготовка к работе:"
   ]
  },
  {
   "cell_type": "code",
   "execution_count": 205,
   "metadata": {},
   "outputs": [],
   "source": [
    "import json\n",
    "from collections import Counter\n",
    "import re\n",
    "\n",
    "twitter = []\n",
    "for line in open('hw_3_twitter.json'):\n",
    "    twitter.append(json.loads(line))"
   ]
  },
  {
   "cell_type": "markdown",
   "metadata": {},
   "source": [
    "**Задание 1: Нахождение числа твитов в наборе**\n",
    "\n",
    "Числом твитов в наборе будет длина списка twitter, это и выведем в ответ"
   ]
  },
  {
   "cell_type": "code",
   "execution_count": 164,
   "metadata": {},
   "outputs": [
    {
     "name": "stdout",
     "output_type": "stream",
     "text": [
      "Число твитов равно:  2556\n"
     ]
    }
   ],
   "source": [
    "print('Число твитов равно: ', len(twitter))"
   ]
  },
  {
   "cell_type": "markdown",
   "metadata": {},
   "source": [
    "**Задание 2: Какой процент твитов составляют удаленные записи? (помеченные как delete)**\n",
    "\n",
    "Я решила создать 2 списка - список del_tweets, содержащий все удаленные записи, и список norm_tweets, содержащий все \"нормальные\" записи, так как ими будет удобно пользоваться в последующий задачах. Можно было ввести просто счётчик удаленных твитов, но практичнее создать списки удалённых и \"нормальных\" твитов и для данной задачи поделить длину списка del_tweets (то есть как раз число удаленных твитов) на длину списка twitter (число всех твитов)."
   ]
  },
  {
   "cell_type": "code",
   "execution_count": 165,
   "metadata": {},
   "outputs": [
    {
     "name": "stdout",
     "output_type": "stream",
     "text": [
      "14.162754303599373 %\n"
     ]
    }
   ],
   "source": [
    "del_tweets = []\n",
    "norm_tweets = []\n",
    "for i in range(len(twitter)):\n",
    "    if 'delete' in twitter[i]:\n",
    "        del_tweets.append(twitter[i])\n",
    "    else:\n",
    "        norm_tweets.append(twitter[i])\n",
    "print(len(del_tweets) / len(twitter) * 100 , '%')"
   ]
  },
  {
   "cell_type": "markdown",
   "metadata": {},
   "source": [
    "**Примечание**: мне не очень нравится такой точный ответ на задачу, мне захотелось округлить такое длинное число до 2 знаков после запятой, используя функцию round()\n",
    "Ниже менее точный, но более красивый ответ для Задания 2:"
   ]
  },
  {
   "cell_type": "code",
   "execution_count": 166,
   "metadata": {},
   "outputs": [
    {
     "name": "stdout",
     "output_type": "stream",
     "text": [
      "14.16 %\n"
     ]
    }
   ],
   "source": [
    "print(round(len(del_tweets) / len(twitter) * 100, 2), '%')"
   ]
  },
  {
   "cell_type": "markdown",
   "metadata": {},
   "source": [
    "**Задание 3: Какие самые популярные языки твитов?**\n",
    "Здесь решение задачи идет в несколько этапов: ищем все возможные языки в неудалённых твитах (в удалённых не нашла тег lang), создаём словарь частотности для языков и выводим 20 самых популярных языков твита (я выбрала именно это число, т.к. в задании не было написано другого)\n"
   ]
  },
  {
   "cell_type": "code",
   "execution_count": 187,
   "metadata": {},
   "outputs": [
    {
     "name": "stdout",
     "output_type": "stream",
     "text": [
      "\t Язык: \t Число твитов: \n",
      "\n",
      "1) \t en \t 719\n",
      "2) \t ja \t 438\n",
      "3) \t es \t 173\n",
      "4) \t ko \t 149\n",
      "5) \t th \t 123\n",
      "6) \t ar \t 119\n",
      "7) \t und \t 117\n",
      "8) \t in \t 71\n",
      "9) \t pt \t 69\n",
      "10) \t fr \t 35\n",
      "11) \t tr \t 30\n",
      "12) \t tl \t 29\n",
      "13) \t hi \t 23\n",
      "14) \t ru \t 15\n",
      "15) \t fa \t 8\n",
      "16) \t zh \t 8\n",
      "17) \t ca \t 7\n",
      "18) \t ur \t 6\n",
      "19) \t nl \t 6\n",
      "20) \t de \t 6\n"
     ]
    }
   ],
   "source": [
    "pop = [] #будущий список \"Популярные языки твитов\"\n",
    "for i in range(len(norm_tweets)): #обходим список norm_tweets (потому что в удалённых записях не отображается язык)\n",
    "    cur_lang = norm_tweets[i].get('lang')\n",
    "    if cur_lang in pop_lang:\n",
    "        pop.append(cur_lang) #добавляем полученный язык в список pop\n",
    "c = Counter(pop) #преобразовываем список pop в словарь частотности языков\n",
    "d = c.most_common(20) #используем метод стандартной библиотеки Python для collections.Counter()\n",
    "print('\\t','Язык:','\\t','Число твитов:','\\n')\n",
    "count = 1\n",
    "for tup in d: #выводим 20 самых популярных языков твита (я решила вывести именно 20, но можно и больше/меньше)\n",
    "    print(str(count) + ')', '\\t', tup[0], '\\t', tup[1])\n",
    "    count += 1"
   ]
  },
  {
   "cell_type": "markdown",
   "metadata": {},
   "source": [
    "**Задание 4: Есть ли твиты от одного и того же пользователя? Если да, то сколько таких пользователей?**\n",
    "Теги, содержащие информацию о юзере, в удалённых и неудалённых твитах хранятся по-разному, поэтому первые два цикла по-разному собирают нужную информацию о юзерах в списках norm_tweets и del_tweets. "
   ]
  },
  {
   "cell_type": "code",
   "execution_count": 208,
   "metadata": {},
   "outputs": [],
   "source": [
    "tweets_of_one_user = {}\n",
    "users = []\n",
    "for i in range(len(norm_tweets)): #ищем информацию о юзерах из неудалённых твитов\n",
    "    cur_user_n = norm_tweets[i]['user']['id_str']\n",
    "    users.append(cur_user_n)\n",
    "for i in range(len(del_tweets)): #ищем информацию о юзерах из удалённых твитов\n",
    "    cur_user_n = del_tweets[i]['delete']['status']['user_id_str']\n",
    "    users.append(cur_user_n)"
   ]
  },
  {
   "cell_type": "markdown",
   "metadata": {},
   "source": [
    "Затем создаётся словарь юзер-число его твитов. Далее обходим словарь и считаем только тех юзеров, у которых число твитов более 1. Получаем ответ)"
   ]
  },
  {
   "cell_type": "code",
   "execution_count": 209,
   "metadata": {},
   "outputs": [
    {
     "name": "stdout",
     "output_type": "stream",
     "text": [
      "66\n"
     ]
    }
   ],
   "source": [
    "ans = 0\n",
    "for value in Counter(users).values(): #создали словарь частотности, будем \"ходить\" по списку его значений\n",
    "    if value > 1: #если число твитов более 1, засчитываем такого юзера в ответ\n",
    "        ans += 1\n",
    "print(ans)"
   ]
  },
  {
   "cell_type": "markdown",
   "metadata": {},
   "source": [
    "**Задание 5: Топ-20 хэштегов**"
   ]
  },
  {
   "cell_type": "code",
   "execution_count": 210,
   "metadata": {},
   "outputs": [
    {
     "name": "stdout",
     "output_type": "stream",
     "text": [
      "\t Название хештега: \t Число твитов: \n",
      "\n",
      "1) \t BTS \t 17\n",
      "2) \t 방탄소년단 \t 13\n",
      "3) \t AMAs \t 11\n",
      "4) \t 人気投票ガチャ \t 8\n",
      "5) \t 태형 \t 7\n",
      "6) \t 뷔 \t 6\n",
      "7) \t BTSinChicago \t 5\n",
      "8) \t BTSLoveYourselfTour \t 5\n",
      "9) \t 오늘의방탄 \t 5\n",
      "10) \t PledgeForSwachhBharat \t 5\n",
      "11) \t MPN \t 5\n",
      "12) \t PCAs \t 4\n",
      "13) \t V \t 4\n",
      "14) \t 시카고1회차공연 \t 4\n",
      "15) \t เป๊กผลิตโชค \t 4\n",
      "16) \t JIMIN \t 4\n",
      "17) \t running \t 3\n",
      "18) \t NCT \t 3\n",
      "19) \t 지민 \t 3\n",
      "20) \t WajahmuPlastik \t 3\n"
     ]
    }
   ],
   "source": [
    "h_l = []\n",
    "for i in range(len(norm_tweets)):\n",
    "    cur_hashtag = norm_tweets[i]['entities']['hashtags']\n",
    "    if len(cur_hashtag) != 0:\n",
    "        for j in range(len(cur_hashtag)):\n",
    "            h_l.append(cur_hashtag[j]['text'])\n",
    "h = Counter(h_l)\n",
    "top_20_hashtags = h.most_common(20)\n",
    "print('\\t','Название хештега:','\\t','Число твитов:','\\n')\n",
    "count = 1\n",
    "for tup in top_20_hashtags: #выводим 20 самых популярных хештегов твита\n",
    "    print(str(count) + ')', '\\t', tup[0], '\\t', tup[1])\n",
    "    count += 1"
   ]
  },
  {
   "cell_type": "markdown",
   "metadata": {},
   "source": [
    "**Задание 6: Предобработать тексты оригинальных твитов (не ретвитов) на английском языке (убрать пунктуацию, привести к нижнему регистру) и составить частотный словарь**\n",
    "\n",
    "Для начала просто найдём в неудалённых твитах оригинальные и на английском языке"
   ]
  },
  {
   "cell_type": "code",
   "execution_count": 170,
   "metadata": {},
   "outputs": [],
   "source": [
    "or_tweets = [] #ищем все оригинальные твиты на английском языке\n",
    "for i in range(len(norm_tweets)):\n",
    "    if norm_tweets[i]['lang'] == 'en' and 'retweeted_status' not in norm_tweets[i].keys():\n",
    "        or_tweets.append(norm_tweets[i]['text'])"
   ]
  },
  {
   "cell_type": "markdown",
   "metadata": {},
   "source": [
    "Теперь будем \"чистить\" все найденные твиты"
   ]
  },
  {
   "cell_type": "code",
   "execution_count": 171,
   "metadata": {},
   "outputs": [
    {
     "name": "stdout",
     "output_type": "stream",
     "text": [
      "Time to think about what #toys you'll be getting for your #kids this #christmas. Here are our top picks!… https://t.co/bG7jq6AP6D\n"
     ]
    }
   ],
   "source": [
    "print(or_tweets[1])"
   ]
  },
  {
   "cell_type": "code",
   "execution_count": 193,
   "metadata": {},
   "outputs": [
    {
     "name": "stdout",
     "output_type": "stream",
     "text": [
      "Топ-10 частотных слов в оригинальных твитах на английском языке\n",
      "\t Слово: \t Частотность его употребления: \n",
      "\n",
      "1) \t the \t 126\n",
      "2) \t to \t 86\n",
      "3) \t a \t 78\n",
      "4) \t i \t 74\n",
      "5) \t and \t 65\n",
      "6) \t is \t 51\n",
      "7) \t you \t 48\n",
      "8) \t of \t 46\n",
      "9) \t for \t 42\n",
      "10) \t it \t 42\n"
     ]
    }
   ],
   "source": [
    "words = []  # сюда мы складываем слова\n",
    "for t in or_tweets:\n",
    "    t = t.lower() #для начала будем считать, что всё же \"Hello\" и 'hello' - одно и то жу\n",
    "    t = re.sub(r'[^a-zA-Z\\'\\s-]', r'', t) # минус эмоджи и все подобное\n",
    "    t = re.sub(r'http.+?($|\\s)', r'', t)  # минус ссылки\n",
    "    t = re.sub(r'@.*?($|\\s)', r'', t)  # минус хэндлы\n",
    "    t = re.sub(r'#.*?($|\\s)', r'', t)  # минус хэштеги\n",
    "    words.extend(t.split()) #добавляем список слов из \"почищенного\" твита        \n",
    "top_10_words = Counter(words).most_common(10)\n",
    "print('Топ-10 частотных слов в оригинальных твитах на английском языке')\n",
    "print('\\t','Слово:','\\t','Частотность его употребления:','\\n')\n",
    "count = 1\n",
    "for tup in top_10_words: #выводим 20 самых популярных хештегов твита\n",
    "    print(str(count) + ')', '\\t', tup[0], '\\t', tup[1])\n",
    "    count += 1"
   ]
  },
  {
   "cell_type": "markdown",
   "metadata": {},
   "source": [
    "**Задание 7: Найти количество подписчиков (фолловеров) у авторов твитов и вывести топ-10**"
   ]
  },
  {
   "cell_type": "code",
   "execution_count": 199,
   "metadata": {},
   "outputs": [
    {
     "name": "stdout",
     "output_type": "stream",
     "text": [
      "Топ-10 популярных пользователей твиттера \n",
      "\n",
      "\t Имя пользователя: \t Число подписчиков: \n",
      "\n",
      "1) \t Filosofía♕ \t 2521403\n",
      "2) \t FITNESS Magazine \t 1491309\n",
      "3) \t malaysiakini.com \t 1206759\n",
      "4) \t NYT Science \t 1137374\n",
      "5) \t Gramática \t 625463\n",
      "6) \t TGRT Haber \t 392472\n",
      "7) \t The Sun Football ⚽ \t 383698\n",
      "8) \t Melbourne, Australia \t 374222\n",
      "9) \t Roznama Express \t 318189\n",
      "10) \t 💞 ცųཞɠɛཞცơơɠıɛ 💞 \t 311319\n"
     ]
    }
   ],
   "source": [
    "followers = {}\n",
    "for i in range(len(norm_tweets)):\n",
    "    followers[norm_tweets[i]['user']['name']] = norm_tweets[i]['user']['followers_count']\n",
    "top_10_pop_users = Counter(followers).most_common(10)\n",
    "print('Топ-10 популярных пользователей твиттера', '\\n')\n",
    "print('\\t','Имя пользователя:','\\t','Число подписчиков:','\\n')\n",
    "count = 1\n",
    "for tup in top_10_pop_users: #выводим 20 самых популярных хештегов твита\n",
    "    print(str(count) + ')', '\\t', tup[0], '\\t', tup[1])\n",
    "    count += 1"
   ]
  },
  {
   "cell_type": "markdown",
   "metadata": {},
   "source": [
    "**Задание 8: Топ-10 источников твита (из какого приложения написан)**\n",
    "Для начала сделаем список всех источников, пройдясь по списку неудалённых твитов и найдя там регулярным выражением название источника"
   ]
  },
  {
   "cell_type": "code",
   "execution_count": 201,
   "metadata": {},
   "outputs": [],
   "source": [
    "sources = []\n",
    "for i in range(len(norm_tweets)):\n",
    "    sources.append(re.search(r'(?:>(.+?)</a>)', norm_tweets[i]['source'])[1])"
   ]
  },
  {
   "cell_type": "markdown",
   "metadata": {},
   "source": [
    "Создадим словарь частотностей, методом стандартной библиотеки Python для Counter() распечатаем 10 самых популярных источников твита"
   ]
  },
  {
   "cell_type": "code",
   "execution_count": 203,
   "metadata": {},
   "outputs": [
    {
     "name": "stdout",
     "output_type": "stream",
     "text": [
      "Топ-10 источников твита\n",
      "\t Источник: \t Число твитов: \n",
      "\n",
      "1) \t Twitter for iPhone \t 800\n",
      "2) \t Twitter for Android \t 695\n",
      "3) \t Twitter Web Client \t 140\n",
      "4) \t twittbot.net \t 122\n",
      "5) \t Twitter Lite \t 51\n",
      "6) \t Twitter for iPad \t 28\n",
      "7) \t TweetDeck \t 23\n",
      "8) \t Facebook \t 17\n",
      "9) \t IFTTT \t 14\n",
      "10) \t تطبيق قرآني \t 10\n"
     ]
    }
   ],
   "source": [
    "top_10_sources = Counter(sources).most_common(10)\n",
    "print('Топ-10 источников твита')\n",
    "print('\\t','Источник:','\\t','Число твитов:','\\n')\n",
    "count = 1\n",
    "for tup in top_10_sources: #выводим 20 самых популярных хештегов твита\n",
    "    print(str(count) + ')', '\\t', tup[0], '\\t', tup[1])\n",
    "    count += 1"
   ]
  }
 ],
 "metadata": {
  "kernelspec": {
   "display_name": "Python 3",
   "language": "python",
   "name": "python3"
  },
  "language_info": {
   "codemirror_mode": {
    "name": "ipython",
    "version": 3
   },
   "file_extension": ".py",
   "mimetype": "text/x-python",
   "name": "python",
   "nbconvert_exporter": "python",
   "pygments_lexer": "ipython3",
   "version": "3.7.3"
  }
 },
 "nbformat": 4,
 "nbformat_minor": 4
}
